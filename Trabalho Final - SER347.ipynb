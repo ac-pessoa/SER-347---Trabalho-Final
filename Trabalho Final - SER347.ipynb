{
 "cells": [
  {
   "cell_type": "markdown",
   "metadata": {},
   "source": [
    "# Trabalho final SER 347 - Introdução à Programação para Sensoriamento Remoto\n",
    "- - -"
   ]
  },
  {
   "cell_type": "markdown",
   "metadata": {},
   "source": [
    "# Reamostragem de imagens matriciais para uma grade de referência"
   ]
  },
  {
   "cell_type": "markdown",
   "metadata": {},
   "source": [
    "Alunas: \n",
    ">Ana Carolina Moreira Pessôa <br>\n",
    ">Nathalia Carvalho"
   ]
  },
  {
   "cell_type": "markdown",
   "metadata": {},
   "source": [
    "## Introdução"
   ]
  },
  {
   "cell_type": "markdown",
   "metadata": {},
   "source": [
    "<p style=\"text-align: justify;\">Um dos desafios para se trabalhar com dados espaciais é o tempo gasto nos processamentos computacionais. A compatibilização de dados espaciais em grades celulares regulares é uma metodologia recorrente para viabilizar a análise de dados em diferentes resoluções de origem. Essa compatibilização se dá pela reamostragem do dado em sua resolução original, para uma nova resolução que será única entre todo o banco de dados. Essa reamostragem pode ocupar boa parte do tempo de processamento de seu trabalho, quando se tratando de áreas muito extensas e/ou séries temporais longas. Este trabalho propõe desenvolver um programa de reamostragem em linguagem Python, a fim de compatibilizar produtos com resoluções espaciais diferentes, bem como, obter os valores percentuais em relação aos dados originais.</p>"
   ]
  },
  {
   "cell_type": "markdown",
   "metadata": {},
   "source": [
    "## Área de Estudo"
   ]
  },
  {
   "cell_type": "markdown",
   "metadata": {},
   "source": [
    "<p style=\"text-align: justify;\">A área de estudo compreende um porção do estado no Mato Grosso na parte da Amazônia Legal. A figura abaixo apresenta a localização da área de estudo.</p>"
   ]
  },
  {
   "attachments": {},
   "cell_type": "markdown",
   "metadata": {},
   "source": [
    "<img src=\"https://github.com/ac-pessoa/SER-347---Trabalho-Final/blob/master/area_estudo.jpg?raw=true\" width=\"800\">"
   ]
  },
  {
   "cell_type": "markdown",
   "metadata": {},
   "source": [
    "## Metodologia"
   ]
  },
  {
   "cell_type": "markdown",
   "metadata": {},
   "source": [
    "<p style=\"text-align: justify;\">Serão utilizados os dados da Coleção 2.3 do MapBiomas. Esses dados incluem informações anuais da dinâmica da cobertura do solo gerados a partir da classificação de imagens do satélite Landsat, com uma resolução espacial de 30 metros. A fim de compatibilizá-los com bancos de dados que possuem resoluções espaciais maiores, estes dados serão reamostrados para grades regulares de 1 quilômetro, 5 quilômetros e 10 quilômetros. A figura abaixo ilustra as grades regulares de referência que serão usadas na reamostragem.</p> "
   ]
  },
  {
   "attachments": {},
   "cell_type": "markdown",
   "metadata": {},
   "source": [
    "<img src=\"https://github.com/ac-pessoa/SER-347---Trabalho-Final/blob/master/grades.jpg?raw=true\" width=\"400\">"
   ]
  },
  {
   "cell_type": "markdown",
   "metadata": {},
   "source": [
    "<p style=\"text-align: justify;\">O programa deverá gerar imagens nas quais o valor de cada pixel corresponderá ao percentual de cada cobertura do solo existente na área do novo quadrante. Estas análises serão realizadas para quatro classes de cobertura do solo - Floresta, Formações naturais não florestais, Agropecuária e Outros - e para dois anos de mapeamento - 2000 e 2016. A partir dos resultados obtidos espera-se obter um programa que reduza o tempo de processamento e que otimize a extração de informações a partir de densos bancos de dados. A figura abaixo ilustra a metodologia adotada, e os passos realizados em linguagem Python (destacados no quadrante laranja).</p>"
   ]
  },
  {
   "attachments": {},
   "cell_type": "markdown",
   "metadata": {},
   "source": [
    "<img src=\"https://github.com/ac-pessoa/SER-347---Trabalho-Final/blob/master/fluxograma.jpg?raw=true\" width=\"800\">"
   ]
  },
  {
   "cell_type": "markdown",
   "metadata": {},
   "source": [
    "## Programação em Python "
   ]
  },
  {
   "cell_type": "markdown",
   "metadata": {},
   "source": [
    "### 1. Importação das bibliotecas "
   ]
  },
  {
   "cell_type": "code",
   "execution_count": 17,
   "metadata": {},
   "outputs": [],
   "source": [
    "import os\n",
    "import rasterio \n",
    "import fiona\n",
    "from rasterstats import zonal_stats\n",
    "import pandas as pd\n",
    "import geopandas as gpd\n",
    "from geopandas import GeoDataFrame\n",
    "import shapely\n",
    "from shapely.geometry import shape \n",
    "from osgeo import ogr\n",
    "from osgeo import gdal\n",
    "import subprocess\n",
    "import sys\n",
    "# importar constantes\n",
    "from gdalconst import *\n",
    "# informar o uso de exceções\n",
    "gdal.UseExceptions()"
   ]
  },
  {
   "cell_type": "markdown",
   "metadata": {},
   "source": [
    "### 2. Manipulação dos diretórios e arquivos"
   ]
  },
  {
   "cell_type": "markdown",
   "metadata": {},
   "source": [
    "#### 2.1. Definição do diretório de trabalho"
   ]
  },
  {
   "cell_type": "code",
   "execution_count": 23,
   "metadata": {
    "scrolled": true
   },
   "outputs": [
    {
     "name": "stdout",
     "output_type": "stream",
     "text": [
      "Diretório de inicialização: C:\\Users\\acpes\\Dropbox (Pessoal)\\proj_python\\Resultados\n",
      "Diretório alterado para: C:\\Users\\acpes\\Dropbox (Pessoal)\\proj_python\n"
     ]
    }
   ],
   "source": [
    "# Imprimir diretório atual\n",
    "print(\"Diretório de inicialização:\" , os.getcwd())\n",
    "\n",
    "# Mudar diretório\n",
    "os.chdir(\"C:/Users/acpes/Dropbox (Pessoal)/proj_python\")\n",
    "\n",
    "print(\"Diretório alterado para:\" , os.getcwd())"
   ]
  },
  {
   "cell_type": "markdown",
   "metadata": {},
   "source": [
    "#### 2.2. Lista de todos os arquivos do diretório de trabalho"
   ]
  },
  {
   "cell_type": "code",
   "execution_count": 24,
   "metadata": {},
   "outputs": [
    {
     "name": "stdout",
     "output_type": "stream",
     "text": [
      "Arquivos no diretório de trabalho:\n",
      "------------------------------\n",
      ".dropbox\n",
      "biomas_2000_reclass_classe1_proj.tif\n",
      "biomas_2000_reclass_classe2_proj.tif\n",
      "biomas_2000_reclass_classe3_proj.tif\n",
      "biomas_2000_reclass_classe4_proj.tif\n",
      "biomas_2016_reclass_classe1_proj.tif\n",
      "biomas_2016_reclass_classe2_proj.tif\n",
      "biomas_2016_reclass_classe3_proj.tif\n",
      "biomas_2016_reclass_classe4_proj.tif\n",
      "desktop.ini\n",
      "Documento\n",
      "molde_10km.dbf\n",
      "molde_10km.prj\n",
      "molde_10km.sbn\n",
      "molde_10km.sbx\n",
      "molde_10km.shp\n",
      "molde_10km.shx\n",
      "molde_10km.tif\n",
      "molde_1km.dbf\n",
      "molde_1km.prj\n",
      "molde_1km.sbn\n",
      "molde_1km.sbx\n",
      "molde_1km.shp\n",
      "molde_1km.shx\n",
      "molde_1km.tif\n",
      "molde_5km.dbf\n",
      "molde_5km.prj\n",
      "molde_5km.sbn\n",
      "molde_5km.sbx\n",
      "molde_5km.shp\n",
      "molde_5km.shx\n",
      "molde_5km.tif\n",
      "molde_recorte\n",
      "Resultados\n"
     ]
    }
   ],
   "source": [
    "# Listar todos os arquivos dentro do diretório atual de trabalho\n",
    "lista_dir = os.listdir(os.getcwd())\n",
    "\n",
    "# Imprimir todos os arquivos existentes no diretório de trabalho\n",
    "print (\"Arquivos no diretório de trabalho:\")\n",
    "print(\"------------------------------\")\n",
    "for i in lista_dir:\n",
    "    print(i)"
   ]
  },
  {
   "cell_type": "markdown",
   "metadata": {},
   "source": [
    "#### 2.3. Lista dos dados de entrada (.tif) - Imagens binárias de cada classe em cada ano "
   ]
  },
  {
   "cell_type": "code",
   "execution_count": 4,
   "metadata": {},
   "outputs": [
    {
     "name": "stdout",
     "output_type": "stream",
     "text": [
      "Imagens de entrada com a extensão .tif:\n",
      "------------------------------\n",
      "biomas_2000_reclass_classe1_proj.tif\n",
      "biomas_2000_reclass_classe2_proj.tif\n",
      "biomas_2000_reclass_classe3_proj.tif\n",
      "biomas_2000_reclass_classe4_proj.tif\n",
      "biomas_2016_reclass_classe1_proj.tif\n",
      "biomas_2016_reclass_classe2_proj.tif\n",
      "biomas_2016_reclass_classe3_proj.tif\n",
      "biomas_2016_reclass_classe4_proj.tif\n"
     ]
    }
   ],
   "source": [
    "# Criar variável para armazenar uma lista apenas com os arquivos .tif de entrada\n",
    "lista_entrada=[]\n",
    "\n",
    "print(\"Imagens de entrada com a extensão .tif:\")\n",
    "print(\"------------------------------\")\n",
    "\n",
    "# Selecionar apenas os arquivos que possuem a extensão proj.tif (8 últimos caracteres)\n",
    "for i in lista_dir:\n",
    "    if i[-8:]=='proj.tif':\n",
    "        #armazenar os arquivos .tif na lista de entrada\n",
    "        lista_entrada.append(i)\n",
    "        print(i)"
   ]
  },
  {
   "cell_type": "markdown",
   "metadata": {},
   "source": [
    "#### 2.4. Lista dos diretórios dos dados de entrada"
   ]
  },
  {
   "cell_type": "code",
   "execution_count": 9,
   "metadata": {},
   "outputs": [
    {
     "name": "stdout",
     "output_type": "stream",
     "text": [
      "Diretório das imagens de entrada com a extensão .tif:\n",
      "------------------------------\n",
      "C:\\Users\\acpes\\Dropbox (Pessoal)\\proj_python\\biomas_2000_reclass_classe1_proj.tif\n",
      "C:\\Users\\acpes\\Dropbox (Pessoal)\\proj_python\\biomas_2000_reclass_classe2_proj.tif\n",
      "C:\\Users\\acpes\\Dropbox (Pessoal)\\proj_python\\biomas_2000_reclass_classe3_proj.tif\n",
      "C:\\Users\\acpes\\Dropbox (Pessoal)\\proj_python\\biomas_2000_reclass_classe4_proj.tif\n",
      "C:\\Users\\acpes\\Dropbox (Pessoal)\\proj_python\\biomas_2016_reclass_classe1_proj.tif\n",
      "C:\\Users\\acpes\\Dropbox (Pessoal)\\proj_python\\biomas_2016_reclass_classe2_proj.tif\n",
      "C:\\Users\\acpes\\Dropbox (Pessoal)\\proj_python\\biomas_2016_reclass_classe3_proj.tif\n",
      "C:\\Users\\acpes\\Dropbox (Pessoal)\\proj_python\\biomas_2016_reclass_classe4_proj.tif\n"
     ]
    }
   ],
   "source": [
    "# Criar lista com strings dos diretórios das imagens de entrada - Essa lista será utilizada para a análise de estatísticas zonais\n",
    "\n",
    "lista_entrada_dir = []\n",
    "\n",
    "print(\"Diretório das imagens de entrada com a extensão .tif:\")\n",
    "print(\"------------------------------\")\n",
    "\n",
    "for i in lista_entrada:\n",
    "    file = os.path.abspath(i)\n",
    "    print(file)\n",
    "    lista_entrada_dir.append(file)"
   ]
  },
  {
   "cell_type": "markdown",
   "metadata": {},
   "source": [
    "### 3. Leitura dos arquivos vetoriais dos moldes\n"
   ]
  },
  {
   "cell_type": "code",
   "execution_count": 6,
   "metadata": {},
   "outputs": [],
   "source": [
    "# Grades regulares de referência de 1km, 5km, 10km\n",
    "\n",
    "molde_1km = fiona.open(\"C:/Users/acpes/Dropbox (Pessoal)/proj_python/molde_1km.shp\") \n",
    "molde_5km = fiona.open(\"C:/Users/acpes/Dropbox (Pessoal)/proj_python/molde_5km.shp\") \n",
    "molde_10km = fiona.open(\"C:/Users/acpes/Dropbox (Pessoal)/proj_python/molde_10km.shp\") "
   ]
  },
  {
   "cell_type": "markdown",
   "metadata": {},
   "source": [
    "### 4. Estatística zonal"
   ]
  },
  {
   "cell_type": "code",
   "execution_count": 13,
   "metadata": {},
   "outputs": [
    {
     "name": "stdout",
     "output_type": "stream",
     "text": [
      "C:\\Users\\acpes\\Dropbox (Pessoal)\\proj_python\\biomas_2000_reclass_classe1_proj.tif ano2000_classe1\n",
      "C:\\Users\\acpes\\Dropbox (Pessoal)\\proj_python\\biomas_2000_reclass_classe2_proj.tif ano2000_classe2\n",
      "C:\\Users\\acpes\\Dropbox (Pessoal)\\proj_python\\biomas_2000_reclass_classe3_proj.tif ano2000_classe3\n",
      "C:\\Users\\acpes\\Dropbox (Pessoal)\\proj_python\\biomas_2000_reclass_classe4_proj.tif ano2000_classe4\n",
      "C:\\Users\\acpes\\Dropbox (Pessoal)\\proj_python\\biomas_2016_reclass_classe1_proj.tif ano2016_classe1\n",
      "C:\\Users\\acpes\\Dropbox (Pessoal)\\proj_python\\biomas_2016_reclass_classe2_proj.tif ano2016_classe2\n",
      "C:\\Users\\acpes\\Dropbox (Pessoal)\\proj_python\\biomas_2016_reclass_classe3_proj.tif ano2016_classe3\n",
      "C:\\Users\\acpes\\Dropbox (Pessoal)\\proj_python\\biomas_2016_reclass_classe4_proj.tif ano2016_classe4\n"
     ]
    }
   ],
   "source": [
    "# Criar uma lista que dará o nome aos arquivos gerados\n",
    "\n",
    "nomes = [\"ano2000_classe1\",\"ano2000_classe2\",\"ano2000_classe3\",\"ano2000_classe4\",\"ano2016_classe1\",\"ano2016_classe2\",\"ano2016_classe3\",\"ano2016_classe4\"]\n",
    "\n",
    "# Conferir se cada nome corresponde ao arquivo de entrada\n",
    "for i, nome in zip(lista_entrada_dir, nomes):\n",
    "    print(i, nome)"
   ]
  },
  {
   "cell_type": "markdown",
   "metadata": {},
   "source": [
    "#### 4.1. Grade regular de referência de 1km"
   ]
  },
  {
   "cell_type": "code",
   "execution_count": 16,
   "metadata": {},
   "outputs": [
    {
     "name": "stderr",
     "output_type": "stream",
     "text": [
      "C:\\Users\\acpes\\Anaconda3\\envs\\geospatial\\lib\\site-packages\\rasterstats\\main.py:145: FutureWarning: The value of this property will change in version 1.0. Please see https://github.com/mapbox/rasterio/issues/86 for details.\n",
      "  with Raster(raster, affine, nodata, band) as rast:\n",
      "C:\\Users\\acpes\\Anaconda3\\envs\\geospatial\\lib\\site-packages\\rasterstats\\io.py:242: FutureWarning: GDAL-style transforms are deprecated and will not be supported in Rasterio 1.0.\n",
      "  self.affine = guard_transform(self.src.transform)\n",
      "C:\\Users\\acpes\\Anaconda3\\envs\\geospatial\\lib\\site-packages\\rasterstats\\main.py:165: FutureWarning: Conversion of the second argument of issubdtype from `float` to `np.floating` is deprecated. In future, it will be treated as `np.float64 == np.dtype(float).type`.\n",
      "  np.issubdtype(fsrc.array.dtype, float)\n"
     ]
    },
    {
     "name": "stdout",
     "output_type": "stream",
     "text": [
      "2min 58s ± 15.3 s per loop (mean ± std. dev. of 7 runs, 1 loop each)\n"
     ]
    }
   ],
   "source": [
    "%%timeit\n",
    "\n",
    "# Aplicar função da estatística zonal para obter a proporção de cada classe em cada ano para a grade de referência de 1km\n",
    "for i, nome in zip(lista_entrada_dir, nomes):\n",
    "        zonal = zonal_stats(molde_1km, i, band=1, stats=['mean'], all_touched = False, geojson_out=True)\n",
    "        dataframe = GeoDataFrame.from_features(zonal)\n",
    "        dataframe.to_file(\"C:/Users/acpes/Dropbox (Pessoal)/proj_python/Resultados/\"+nome+\"_1km.shp\")\n",
    "        "
   ]
  },
  {
   "cell_type": "markdown",
   "metadata": {},
   "source": [
    "#### 4.2. Grade regular de referência de 5km"
   ]
  },
  {
   "cell_type": "code",
   "execution_count": 15,
   "metadata": {},
   "outputs": [
    {
     "name": "stderr",
     "output_type": "stream",
     "text": [
      "C:\\Users\\acpes\\Anaconda3\\envs\\geospatial\\lib\\site-packages\\rasterstats\\main.py:145: FutureWarning: The value of this property will change in version 1.0. Please see https://github.com/mapbox/rasterio/issues/86 for details.\n",
      "  with Raster(raster, affine, nodata, band) as rast:\n",
      "C:\\Users\\acpes\\Anaconda3\\envs\\geospatial\\lib\\site-packages\\rasterstats\\io.py:242: FutureWarning: GDAL-style transforms are deprecated and will not be supported in Rasterio 1.0.\n",
      "  self.affine = guard_transform(self.src.transform)\n",
      "C:\\Users\\acpes\\Anaconda3\\envs\\geospatial\\lib\\site-packages\\rasterstats\\main.py:165: FutureWarning: Conversion of the second argument of issubdtype from `float` to `np.floating` is deprecated. In future, it will be treated as `np.float64 == np.dtype(float).type`.\n",
      "  np.issubdtype(fsrc.array.dtype, float)\n"
     ]
    },
    {
     "name": "stdout",
     "output_type": "stream",
     "text": [
      "12.2 s ± 320 ms per loop (mean ± std. dev. of 7 runs, 1 loop each)\n"
     ]
    }
   ],
   "source": [
    "%%timeit\n",
    "\n",
    "# Aplicar função da estatística zonal para obter a proporção de cada classe em cada ano para a grade de referência de 5km\n",
    "for i, nome in zip(lista_entrada_dir, nomes):\n",
    "        zonal = zonal_stats(molde_5km, i, band=1, stats=['mean'], all_touched = False, geojson_out=True)\n",
    "        dataframe = GeoDataFrame.from_features(zonal)\n",
    "        dataframe.to_file(\"C:/Users/acpes/Dropbox (Pessoal)/proj_python/Resultados/\"+nome+\"_5km.shp\")"
   ]
  },
  {
   "cell_type": "markdown",
   "metadata": {},
   "source": [
    "#### 4.3. Grade regular de referência de 10km"
   ]
  },
  {
   "cell_type": "code",
   "execution_count": 14,
   "metadata": {},
   "outputs": [
    {
     "name": "stderr",
     "output_type": "stream",
     "text": [
      "C:\\Users\\acpes\\Anaconda3\\envs\\geospatial\\lib\\site-packages\\rasterstats\\main.py:145: FutureWarning: The value of this property will change in version 1.0. Please see https://github.com/mapbox/rasterio/issues/86 for details.\n",
      "  with Raster(raster, affine, nodata, band) as rast:\n",
      "C:\\Users\\acpes\\Anaconda3\\envs\\geospatial\\lib\\site-packages\\rasterstats\\io.py:242: FutureWarning: GDAL-style transforms are deprecated and will not be supported in Rasterio 1.0.\n",
      "  self.affine = guard_transform(self.src.transform)\n",
      "C:\\Users\\acpes\\Anaconda3\\envs\\geospatial\\lib\\site-packages\\rasterstats\\main.py:165: FutureWarning: Conversion of the second argument of issubdtype from `float` to `np.floating` is deprecated. In future, it will be treated as `np.float64 == np.dtype(float).type`.\n",
      "  np.issubdtype(fsrc.array.dtype, float)\n"
     ]
    },
    {
     "name": "stdout",
     "output_type": "stream",
     "text": [
      "6.54 s ± 220 ms per loop (mean ± std. dev. of 7 runs, 1 loop each)\n"
     ]
    }
   ],
   "source": [
    "%%timeit\n",
    "\n",
    "# Aplicar função da estatística zonal para obter a proporção de cada classe em cada ano para a grade de referência de 10km\n",
    "for i, nome in zip(lista_entrada_dir, nomes):\n",
    "        zonal = zonal_stats(molde_10km, i, band=1, stats=['mean'], all_touched = False, geojson_out=True)\n",
    "        dataframe = GeoDataFrame.from_features(zonal)\n",
    "        dataframe.to_file(\"C:/Users/acpes/Dropbox (Pessoal)/proj_python/Resultados/\"+nome+\"_10km.shp\")\n",
    "        "
   ]
  },
  {
   "cell_type": "markdown",
   "metadata": {},
   "source": [
    "### 5. Rasterização e exportação do produto final"
   ]
  },
  {
   "cell_type": "markdown",
   "metadata": {},
   "source": [
    "<p style=\"text-align: justify;\">Para gerar o produto final, ou seja, rasters com proporção de cada classe em cada ano, será preciso gerar três listas com os diretórios para:</p>\n",
    "\n",
    "1. Os vetores de entrada - gerado na etapa da estatística zonal\n",
    "2. Os rasters de referência - moldes do raster que queremos gerar. Foram usadas as mesmas grades regulares de referência da etapa anterior rasterizadas.\n",
    "3. Os rasters de saída\n",
    "\n",
    "<p style=\"text-align: justify;\">Uma vez criadas essas listas, será usada função 'vetoraster' para rasterizar os vetores de entrada e salvar o produto final no diretório dos resultados.</p> "
   ]
  },
  {
   "cell_type": "markdown",
   "metadata": {},
   "source": [
    "#### 5.1. Definição da função 'vetoraster'"
   ]
  },
  {
   "cell_type": "code",
   "execution_count": 37,
   "metadata": {},
   "outputs": [],
   "source": [
    "def vetoraster (vetor_entrada, raster_referencia, raster_saida):\n",
    "\n",
    "    gdalformat = 'GTiff'\n",
    "    datatype = gdal.GDT_Float32\n",
    "    ##########################################################\n",
    "    # Extrair informação da projeção do raster de referência\n",
    "    Image = gdal.Open(raster_referencia, gdal.GA_ReadOnly)\n",
    "\n",
    "    # Abrir vetor de entrada\n",
    "    Shapefile = ogr.Open(vetor_entrada)\n",
    "    Shapefile_layer = Shapefile.GetLayer()\n",
    "\n",
    "    # Rasterizar\n",
    "    print(\"Rasterizando o vetor de entrada...\")\n",
    "    Output = gdal.GetDriverByName(gdalformat).Create(raster_saida, Image.RasterXSize, Image.RasterYSize, 1, datatype, options=['COMPRESS=DEFLATE'])\n",
    "    Output.SetProjection(Image.GetProjectionRef())\n",
    "    Output.SetGeoTransform(Image.GetGeoTransform()) \n",
    "\n",
    "    # Atribuir dado à banda 1\n",
    "    Band = Output.GetRasterBand(1)\n",
    "    Band.SetNoDataValue(255)\n",
    "    gdal.RasterizeLayer(Output, [1], Shapefile_layer, options = [\"ATTRIBUTE=MEAN\"])\n",
    "\n",
    "    # Fechar dados\n",
    "    Band = None\n",
    "    Output = None\n",
    "    Image = None\n",
    "    Shapefile = None\n",
    "\n",
    "    # Construção da imagem \n",
    "    subprocess.call(\"gdaladdo --config COMPRESS_OVERVIEW DEFLATE \"+raster_saida+\" 2 4 8 16 32 64\", shell=True)\n",
    "    print(\"Done.\")"
   ]
  },
  {
   "cell_type": "markdown",
   "metadata": {},
   "source": [
    "#### 5.2. Definição da lista dos rasters de referência"
   ]
  },
  {
   "cell_type": "code",
   "execution_count": 26,
   "metadata": {},
   "outputs": [
    {
     "name": "stdout",
     "output_type": "stream",
     "text": [
      "Rasters de referência com a extensão .tif:\n",
      "------------------------------\n",
      "molde_10km.tif\n",
      "molde_1km.tif\n",
      "molde_5km.tif\n"
     ]
    }
   ],
   "source": [
    "# Criar lista vazia para armazenar os rasters de referência\n",
    "\n",
    "lista_raster_referencia=[]\n",
    "\n",
    "print(\"Rasters de referência com a extensão .tif:\")\n",
    "print(\"------------------------------\")\n",
    "\n",
    "# Selecionar apenas os arquivos que possuem o padrão km.shp (6 últimos caracteres)\n",
    "for i in lista_dir:\n",
    "    if i[-6:]=='km.tif':\n",
    "        #armazenar os arquivos .tif na lista de rasters de referência\n",
    "        lista_raster_referencia.append(i)\n",
    "        print(i)"
   ]
  },
  {
   "cell_type": "code",
   "execution_count": 27,
   "metadata": {},
   "outputs": [
    {
     "name": "stdout",
     "output_type": "stream",
     "text": [
      "Diretório dos rasters de referência com a extensão .tif:\n",
      "------------------------------\n",
      "C:\\Users\\acpes\\Dropbox (Pessoal)\\proj_python\\molde_10km.tif\n",
      "C:\\Users\\acpes\\Dropbox (Pessoal)\\proj_python\\molde_1km.tif\n",
      "C:\\Users\\acpes\\Dropbox (Pessoal)\\proj_python\\molde_5km.tif\n"
     ]
    }
   ],
   "source": [
    "# Criar lista com strings dos diretórios dos rasters de referência\n",
    "\n",
    "lista_raster_referencia_dir = []\n",
    "\n",
    "print(\"Diretório dos rasters de referência com a extensão .tif:\")\n",
    "print(\"------------------------------\")\n",
    "\n",
    "for i in lista_raster_referencia:\n",
    "    file = os.path.abspath(i)\n",
    "    print(file)\n",
    "    lista_raster_referencia_dir.append(file)"
   ]
  },
  {
   "cell_type": "markdown",
   "metadata": {},
   "source": [
    "#### 5.3. Definição da lista dos vetores de entrada"
   ]
  },
  {
   "cell_type": "code",
   "execution_count": 29,
   "metadata": {},
   "outputs": [
    {
     "name": "stdout",
     "output_type": "stream",
     "text": [
      "Diretório de inicialização: C:\\Users\\acpes\\Dropbox (Pessoal)\\proj_python\n",
      "Diretório alterado para: C:\\Users\\acpes\\Dropbox (Pessoal)\\proj_python\\Resultados\n"
     ]
    }
   ],
   "source": [
    "# Imprimir diretório atual\n",
    "print(\"Diretório de inicialização:\" , os.getcwd())\n",
    "\n",
    "# Mudar diretório\n",
    "os.chdir(\"C:/Users/acpes/Dropbox (Pessoal)/proj_python/Resultados\")\n",
    "\n",
    "print(\"Diretório alterado para:\" , os.getcwd())\n",
    "\n",
    "# Listar todos os arquivos dentro do diretório atual de trabalho\n",
    "lista_dir = os.listdir(os.getcwd())"
   ]
  },
  {
   "cell_type": "code",
   "execution_count": 30,
   "metadata": {},
   "outputs": [
    {
     "name": "stdout",
     "output_type": "stream",
     "text": [
      "Vetores de entrada com a extensão .shp:\n",
      "------------------------------\n",
      "ano2000_classe1_10km.shp\n",
      "ano2000_classe1_1km.shp\n",
      "ano2000_classe1_5km.shp\n",
      "ano2000_classe2_10km.shp\n",
      "ano2000_classe2_1km.shp\n",
      "ano2000_classe2_5km.shp\n",
      "ano2000_classe3_10km.shp\n",
      "ano2000_classe3_1km.shp\n",
      "ano2000_classe3_5km.shp\n",
      "ano2000_classe4_10km.shp\n",
      "ano2000_classe4_1km.shp\n",
      "ano2000_classe4_5km.shp\n",
      "ano2016_classe1_10km.shp\n",
      "ano2016_classe1_1km.shp\n",
      "ano2016_classe1_5km.shp\n",
      "ano2016_classe2_10km.shp\n",
      "ano2016_classe2_1km.shp\n",
      "ano2016_classe2_5km.shp\n",
      "ano2016_classe3_10km.shp\n",
      "ano2016_classe3_1km.shp\n",
      "ano2016_classe3_5km.shp\n",
      "ano2016_classe4_10km.shp\n",
      "ano2016_classe4_1km.shp\n",
      "ano2016_classe4_5km.shp\n"
     ]
    }
   ],
   "source": [
    "# Criar lista vazia para armazenar os vetores de entrada\n",
    "\n",
    "lista_vetor_entrada=[]\n",
    "\n",
    "print(\"Vetores de entrada com a extensão .shp:\")\n",
    "print(\"------------------------------\")\n",
    "\n",
    "# Selecionar apenas os arquivos que possuem o padrão km.shp (6 últimos caracteres)\n",
    "for i in lista_dir:\n",
    "    if i[-6:]=='km.shp':\n",
    "        #armazenar os arquivos .shp na lista de vetores de entrada\n",
    "        lista_vetor_entrada.append(i)\n",
    "        print(i)"
   ]
  },
  {
   "cell_type": "code",
   "execution_count": 31,
   "metadata": {},
   "outputs": [
    {
     "name": "stdout",
     "output_type": "stream",
     "text": [
      "Diretório dos vetores de entrada com a extensão .shp:\n",
      "------------------------------\n",
      "C:\\Users\\acpes\\Dropbox (Pessoal)\\proj_python\\Resultados\\ano2000_classe1_10km.shp\n",
      "C:\\Users\\acpes\\Dropbox (Pessoal)\\proj_python\\Resultados\\ano2000_classe1_1km.shp\n",
      "C:\\Users\\acpes\\Dropbox (Pessoal)\\proj_python\\Resultados\\ano2000_classe1_5km.shp\n",
      "C:\\Users\\acpes\\Dropbox (Pessoal)\\proj_python\\Resultados\\ano2000_classe2_10km.shp\n",
      "C:\\Users\\acpes\\Dropbox (Pessoal)\\proj_python\\Resultados\\ano2000_classe2_1km.shp\n",
      "C:\\Users\\acpes\\Dropbox (Pessoal)\\proj_python\\Resultados\\ano2000_classe2_5km.shp\n",
      "C:\\Users\\acpes\\Dropbox (Pessoal)\\proj_python\\Resultados\\ano2000_classe3_10km.shp\n",
      "C:\\Users\\acpes\\Dropbox (Pessoal)\\proj_python\\Resultados\\ano2000_classe3_1km.shp\n",
      "C:\\Users\\acpes\\Dropbox (Pessoal)\\proj_python\\Resultados\\ano2000_classe3_5km.shp\n",
      "C:\\Users\\acpes\\Dropbox (Pessoal)\\proj_python\\Resultados\\ano2000_classe4_10km.shp\n",
      "C:\\Users\\acpes\\Dropbox (Pessoal)\\proj_python\\Resultados\\ano2000_classe4_1km.shp\n",
      "C:\\Users\\acpes\\Dropbox (Pessoal)\\proj_python\\Resultados\\ano2000_classe4_5km.shp\n",
      "C:\\Users\\acpes\\Dropbox (Pessoal)\\proj_python\\Resultados\\ano2016_classe1_10km.shp\n",
      "C:\\Users\\acpes\\Dropbox (Pessoal)\\proj_python\\Resultados\\ano2016_classe1_1km.shp\n",
      "C:\\Users\\acpes\\Dropbox (Pessoal)\\proj_python\\Resultados\\ano2016_classe1_5km.shp\n",
      "C:\\Users\\acpes\\Dropbox (Pessoal)\\proj_python\\Resultados\\ano2016_classe2_10km.shp\n",
      "C:\\Users\\acpes\\Dropbox (Pessoal)\\proj_python\\Resultados\\ano2016_classe2_1km.shp\n",
      "C:\\Users\\acpes\\Dropbox (Pessoal)\\proj_python\\Resultados\\ano2016_classe2_5km.shp\n",
      "C:\\Users\\acpes\\Dropbox (Pessoal)\\proj_python\\Resultados\\ano2016_classe3_10km.shp\n",
      "C:\\Users\\acpes\\Dropbox (Pessoal)\\proj_python\\Resultados\\ano2016_classe3_1km.shp\n",
      "C:\\Users\\acpes\\Dropbox (Pessoal)\\proj_python\\Resultados\\ano2016_classe3_5km.shp\n",
      "C:\\Users\\acpes\\Dropbox (Pessoal)\\proj_python\\Resultados\\ano2016_classe4_10km.shp\n",
      "C:\\Users\\acpes\\Dropbox (Pessoal)\\proj_python\\Resultados\\ano2016_classe4_1km.shp\n",
      "C:\\Users\\acpes\\Dropbox (Pessoal)\\proj_python\\Resultados\\ano2016_classe4_5km.shp\n"
     ]
    }
   ],
   "source": [
    "# Criar lista com strings dos diretórios dos vetores de entrada\n",
    "\n",
    "lista_vetor_entrada_dir = []\n",
    "\n",
    "print(\"Diretório dos vetores de entrada com a extensão .shp:\")\n",
    "print(\"------------------------------\")\n",
    "\n",
    "for i in lista_vetor_entrada:\n",
    "    file = os.path.abspath(i)\n",
    "    print(file)\n",
    "    lista_vetor_entrada_dir.append(file)"
   ]
  },
  {
   "cell_type": "markdown",
   "metadata": {},
   "source": [
    "#### 5.4. Definição da lista dos rasters de saída"
   ]
  },
  {
   "cell_type": "code",
   "execution_count": 28,
   "metadata": {},
   "outputs": [
    {
     "name": "stdout",
     "output_type": "stream",
     "text": [
      "Diretório dos rasters de saída com a extensão .tif:\n",
      "------------------------------\n",
      "C:\\Users\\acpes\\Dropbox (Pessoal)\\proj_python\\Resultados\\ano2000_classe1_10km.tif\n",
      "C:\\Users\\acpes\\Dropbox (Pessoal)\\proj_python\\Resultados\\ano2000_classe1_1km.tif\n",
      "C:\\Users\\acpes\\Dropbox (Pessoal)\\proj_python\\Resultados\\ano2000_classe1_5km.tif\n",
      "C:\\Users\\acpes\\Dropbox (Pessoal)\\proj_python\\Resultados\\ano2000_classe2_10km.tif\n",
      "C:\\Users\\acpes\\Dropbox (Pessoal)\\proj_python\\Resultados\\ano2000_classe2_1km.tif\n",
      "C:\\Users\\acpes\\Dropbox (Pessoal)\\proj_python\\Resultados\\ano2000_classe2_5km.tif\n",
      "C:\\Users\\acpes\\Dropbox (Pessoal)\\proj_python\\Resultados\\ano2000_classe3_10km.tif\n",
      "C:\\Users\\acpes\\Dropbox (Pessoal)\\proj_python\\Resultados\\ano2000_classe3_1km.tif\n",
      "C:\\Users\\acpes\\Dropbox (Pessoal)\\proj_python\\Resultados\\ano2000_classe3_5km.tif\n",
      "C:\\Users\\acpes\\Dropbox (Pessoal)\\proj_python\\Resultados\\ano2000_classe4_10km.tif\n",
      "C:\\Users\\acpes\\Dropbox (Pessoal)\\proj_python\\Resultados\\ano2000_classe4_1km.tif\n",
      "C:\\Users\\acpes\\Dropbox (Pessoal)\\proj_python\\Resultados\\ano2000_classe4_5km.tif\n",
      "C:\\Users\\acpes\\Dropbox (Pessoal)\\proj_python\\Resultados\\ano2016_classe1_10km.tif\n",
      "C:\\Users\\acpes\\Dropbox (Pessoal)\\proj_python\\Resultados\\ano2016_classe1_1km.tif\n",
      "C:\\Users\\acpes\\Dropbox (Pessoal)\\proj_python\\Resultados\\ano2016_classe1_5km.tif\n",
      "C:\\Users\\acpes\\Dropbox (Pessoal)\\proj_python\\Resultados\\ano2016_classe2_10km.tif\n",
      "C:\\Users\\acpes\\Dropbox (Pessoal)\\proj_python\\Resultados\\ano2016_classe2_1km.tif\n",
      "C:\\Users\\acpes\\Dropbox (Pessoal)\\proj_python\\Resultados\\ano2016_classe2_5km.tif\n",
      "C:\\Users\\acpes\\Dropbox (Pessoal)\\proj_python\\Resultados\\ano2016_classe3_10km.tif\n",
      "C:\\Users\\acpes\\Dropbox (Pessoal)\\proj_python\\Resultados\\ano2016_classe3_1km.tif\n",
      "C:\\Users\\acpes\\Dropbox (Pessoal)\\proj_python\\Resultados\\ano2016_classe3_5km.tif\n",
      "C:\\Users\\acpes\\Dropbox (Pessoal)\\proj_python\\Resultados\\ano2016_classe4_10km.tif\n",
      "C:\\Users\\acpes\\Dropbox (Pessoal)\\proj_python\\Resultados\\ano2016_classe4_1km.tif\n",
      "C:\\Users\\acpes\\Dropbox (Pessoal)\\proj_python\\Resultados\\ano2016_classe4_5km.tif\n"
     ]
    }
   ],
   "source": [
    "# Criar lista vazia que receberá nomes dos diretórios dos rasters de saída\n",
    "\n",
    "lista_raster_saida_dir = []\n",
    "\n",
    "print(\"Diretório dos rasters de saída com a extensão .tif:\")\n",
    "print(\"------------------------------\")\n",
    "\n",
    "for i in lista_vetor_entrada_dir:\n",
    "    file = i.replace(\".shp\", \".tif\")\n",
    "    print(file)\n",
    "    lista_raster_saida_dir.append(file)"
   ]
  },
  {
   "cell_type": "markdown",
   "metadata": {},
   "source": [
    "#### 5.4. Aplicação da função 'vetoraster'"
   ]
  },
  {
   "cell_type": "code",
   "execution_count": 34,
   "metadata": {},
   "outputs": [
    {
     "name": "stdout",
     "output_type": "stream",
     "text": [
      "ano2000_classe1_10km.shp ano2000_classe1_10km.tif\n",
      "\\ano2000_classe1_1km.shp \\ano2000_classe1_1km.tif\n",
      "\\ano2000_classe1_5km.shp \\ano2000_classe1_5km.tif\n",
      "ano2000_classe2_10km.shp ano2000_classe2_10km.tif\n",
      "\\ano2000_classe2_1km.shp \\ano2000_classe2_1km.tif\n",
      "\\ano2000_classe2_5km.shp \\ano2000_classe2_5km.tif\n",
      "ano2000_classe3_10km.shp ano2000_classe3_10km.tif\n",
      "\\ano2000_classe3_1km.shp \\ano2000_classe3_1km.tif\n",
      "\\ano2000_classe3_5km.shp \\ano2000_classe3_5km.tif\n",
      "ano2000_classe4_10km.shp ano2000_classe4_10km.tif\n",
      "\\ano2000_classe4_1km.shp \\ano2000_classe4_1km.tif\n",
      "\\ano2000_classe4_5km.shp \\ano2000_classe4_5km.tif\n",
      "ano2016_classe1_10km.shp ano2016_classe1_10km.tif\n",
      "\\ano2016_classe1_1km.shp \\ano2016_classe1_1km.tif\n",
      "\\ano2016_classe1_5km.shp \\ano2016_classe1_5km.tif\n",
      "ano2016_classe2_10km.shp ano2016_classe2_10km.tif\n",
      "\\ano2016_classe2_1km.shp \\ano2016_classe2_1km.tif\n",
      "\\ano2016_classe2_5km.shp \\ano2016_classe2_5km.tif\n",
      "ano2016_classe3_10km.shp ano2016_classe3_10km.tif\n",
      "\\ano2016_classe3_1km.shp \\ano2016_classe3_1km.tif\n",
      "\\ano2016_classe3_5km.shp \\ano2016_classe3_5km.tif\n",
      "ano2016_classe4_10km.shp ano2016_classe4_10km.tif\n",
      "\\ano2016_classe4_1km.shp \\ano2016_classe4_1km.tif\n",
      "\\ano2016_classe4_5km.shp \\ano2016_classe4_5km.tif\n"
     ]
    }
   ],
   "source": [
    "# Conferir se cada nome de saída corresponde ao arquivo de entrada\n",
    "for entrada, saida in zip(lista_vetor_entrada_dir, lista_raster_saida_dir):\n",
    "    print(entrada[-24:], saida[-24:])"
   ]
  },
  {
   "cell_type": "code",
   "execution_count": 39,
   "metadata": {},
   "outputs": [
    {
     "name": "stdout",
     "output_type": "stream",
     "text": [
      "Raster de referência: C:\\Users\\acpes\\Dropbox (Pessoal)\\proj_python\\molde_10km.tif\n",
      "Vetor de entrada: C:\\Users\\acpes\\Dropbox (Pessoal)\\proj_python\\Resultados\\ano2000_classe1_10km.shp\n",
      "Raster de saída: C:\\Users\\acpes\\Dropbox (Pessoal)\\proj_python\\Resultados\\ano2000_classe1_10km.tif\n",
      "Rasterizando o vetor de entrada...\n",
      "Done.\n",
      "Vetor de entrada: C:\\Users\\acpes\\Dropbox (Pessoal)\\proj_python\\Resultados\\ano2000_classe1_1km.shp\n",
      "Raster de saída: C:\\Users\\acpes\\Dropbox (Pessoal)\\proj_python\\Resultados\\ano2000_classe1_1km.tif\n",
      "Rasterizando o vetor de entrada...\n",
      "Done.\n",
      "Vetor de entrada: C:\\Users\\acpes\\Dropbox (Pessoal)\\proj_python\\Resultados\\ano2000_classe1_5km.shp\n",
      "Raster de saída: C:\\Users\\acpes\\Dropbox (Pessoal)\\proj_python\\Resultados\\ano2000_classe1_5km.tif\n",
      "Rasterizando o vetor de entrada...\n",
      "Done.\n",
      "Vetor de entrada: C:\\Users\\acpes\\Dropbox (Pessoal)\\proj_python\\Resultados\\ano2000_classe2_10km.shp\n",
      "Raster de saída: C:\\Users\\acpes\\Dropbox (Pessoal)\\proj_python\\Resultados\\ano2000_classe2_10km.tif\n",
      "Rasterizando o vetor de entrada...\n",
      "Done.\n",
      "Vetor de entrada: C:\\Users\\acpes\\Dropbox (Pessoal)\\proj_python\\Resultados\\ano2000_classe2_1km.shp\n",
      "Raster de saída: C:\\Users\\acpes\\Dropbox (Pessoal)\\proj_python\\Resultados\\ano2000_classe2_1km.tif\n",
      "Rasterizando o vetor de entrada...\n",
      "Done.\n",
      "Vetor de entrada: C:\\Users\\acpes\\Dropbox (Pessoal)\\proj_python\\Resultados\\ano2000_classe2_5km.shp\n",
      "Raster de saída: C:\\Users\\acpes\\Dropbox (Pessoal)\\proj_python\\Resultados\\ano2000_classe2_5km.tif\n",
      "Rasterizando o vetor de entrada...\n",
      "Done.\n",
      "Vetor de entrada: C:\\Users\\acpes\\Dropbox (Pessoal)\\proj_python\\Resultados\\ano2000_classe3_10km.shp\n",
      "Raster de saída: C:\\Users\\acpes\\Dropbox (Pessoal)\\proj_python\\Resultados\\ano2000_classe3_10km.tif\n",
      "Rasterizando o vetor de entrada...\n",
      "Done.\n",
      "Vetor de entrada: C:\\Users\\acpes\\Dropbox (Pessoal)\\proj_python\\Resultados\\ano2000_classe3_1km.shp\n",
      "Raster de saída: C:\\Users\\acpes\\Dropbox (Pessoal)\\proj_python\\Resultados\\ano2000_classe3_1km.tif\n",
      "Rasterizando o vetor de entrada...\n",
      "Done.\n",
      "Vetor de entrada: C:\\Users\\acpes\\Dropbox (Pessoal)\\proj_python\\Resultados\\ano2000_classe3_5km.shp\n",
      "Raster de saída: C:\\Users\\acpes\\Dropbox (Pessoal)\\proj_python\\Resultados\\ano2000_classe3_5km.tif\n",
      "Rasterizando o vetor de entrada...\n",
      "Done.\n",
      "Vetor de entrada: C:\\Users\\acpes\\Dropbox (Pessoal)\\proj_python\\Resultados\\ano2000_classe4_10km.shp\n",
      "Raster de saída: C:\\Users\\acpes\\Dropbox (Pessoal)\\proj_python\\Resultados\\ano2000_classe4_10km.tif\n",
      "Rasterizando o vetor de entrada...\n",
      "Done.\n",
      "Vetor de entrada: C:\\Users\\acpes\\Dropbox (Pessoal)\\proj_python\\Resultados\\ano2000_classe4_1km.shp\n",
      "Raster de saída: C:\\Users\\acpes\\Dropbox (Pessoal)\\proj_python\\Resultados\\ano2000_classe4_1km.tif\n",
      "Rasterizando o vetor de entrada...\n",
      "Done.\n",
      "Vetor de entrada: C:\\Users\\acpes\\Dropbox (Pessoal)\\proj_python\\Resultados\\ano2000_classe4_5km.shp\n",
      "Raster de saída: C:\\Users\\acpes\\Dropbox (Pessoal)\\proj_python\\Resultados\\ano2000_classe4_5km.tif\n",
      "Rasterizando o vetor de entrada...\n",
      "Done.\n",
      "Vetor de entrada: C:\\Users\\acpes\\Dropbox (Pessoal)\\proj_python\\Resultados\\ano2016_classe1_10km.shp\n",
      "Raster de saída: C:\\Users\\acpes\\Dropbox (Pessoal)\\proj_python\\Resultados\\ano2016_classe1_10km.tif\n",
      "Rasterizando o vetor de entrada...\n",
      "Done.\n",
      "Vetor de entrada: C:\\Users\\acpes\\Dropbox (Pessoal)\\proj_python\\Resultados\\ano2016_classe1_1km.shp\n",
      "Raster de saída: C:\\Users\\acpes\\Dropbox (Pessoal)\\proj_python\\Resultados\\ano2016_classe1_1km.tif\n",
      "Rasterizando o vetor de entrada...\n",
      "Done.\n",
      "Vetor de entrada: C:\\Users\\acpes\\Dropbox (Pessoal)\\proj_python\\Resultados\\ano2016_classe1_5km.shp\n",
      "Raster de saída: C:\\Users\\acpes\\Dropbox (Pessoal)\\proj_python\\Resultados\\ano2016_classe1_5km.tif\n",
      "Rasterizando o vetor de entrada...\n",
      "Done.\n",
      "Vetor de entrada: C:\\Users\\acpes\\Dropbox (Pessoal)\\proj_python\\Resultados\\ano2016_classe2_10km.shp\n",
      "Raster de saída: C:\\Users\\acpes\\Dropbox (Pessoal)\\proj_python\\Resultados\\ano2016_classe2_10km.tif\n",
      "Rasterizando o vetor de entrada...\n",
      "Done.\n",
      "Vetor de entrada: C:\\Users\\acpes\\Dropbox (Pessoal)\\proj_python\\Resultados\\ano2016_classe2_1km.shp\n",
      "Raster de saída: C:\\Users\\acpes\\Dropbox (Pessoal)\\proj_python\\Resultados\\ano2016_classe2_1km.tif\n",
      "Rasterizando o vetor de entrada...\n",
      "Done.\n",
      "Vetor de entrada: C:\\Users\\acpes\\Dropbox (Pessoal)\\proj_python\\Resultados\\ano2016_classe2_5km.shp\n",
      "Raster de saída: C:\\Users\\acpes\\Dropbox (Pessoal)\\proj_python\\Resultados\\ano2016_classe2_5km.tif\n",
      "Rasterizando o vetor de entrada...\n",
      "Done.\n",
      "Vetor de entrada: C:\\Users\\acpes\\Dropbox (Pessoal)\\proj_python\\Resultados\\ano2016_classe3_10km.shp\n",
      "Raster de saída: C:\\Users\\acpes\\Dropbox (Pessoal)\\proj_python\\Resultados\\ano2016_classe3_10km.tif\n",
      "Rasterizando o vetor de entrada...\n",
      "Done.\n",
      "Vetor de entrada: C:\\Users\\acpes\\Dropbox (Pessoal)\\proj_python\\Resultados\\ano2016_classe3_1km.shp\n",
      "Raster de saída: C:\\Users\\acpes\\Dropbox (Pessoal)\\proj_python\\Resultados\\ano2016_classe3_1km.tif\n",
      "Rasterizando o vetor de entrada...\n",
      "Done.\n",
      "Vetor de entrada: C:\\Users\\acpes\\Dropbox (Pessoal)\\proj_python\\Resultados\\ano2016_classe3_5km.shp\n",
      "Raster de saída: C:\\Users\\acpes\\Dropbox (Pessoal)\\proj_python\\Resultados\\ano2016_classe3_5km.tif\n",
      "Rasterizando o vetor de entrada...\n",
      "Done.\n",
      "Vetor de entrada: C:\\Users\\acpes\\Dropbox (Pessoal)\\proj_python\\Resultados\\ano2016_classe4_10km.shp\n",
      "Raster de saída: C:\\Users\\acpes\\Dropbox (Pessoal)\\proj_python\\Resultados\\ano2016_classe4_10km.tif\n",
      "Rasterizando o vetor de entrada...\n",
      "Done.\n",
      "Vetor de entrada: C:\\Users\\acpes\\Dropbox (Pessoal)\\proj_python\\Resultados\\ano2016_classe4_1km.shp\n",
      "Raster de saída: C:\\Users\\acpes\\Dropbox (Pessoal)\\proj_python\\Resultados\\ano2016_classe4_1km.tif\n",
      "Rasterizando o vetor de entrada...\n",
      "Done.\n",
      "Vetor de entrada: C:\\Users\\acpes\\Dropbox (Pessoal)\\proj_python\\Resultados\\ano2016_classe4_5km.shp\n",
      "Raster de saída: C:\\Users\\acpes\\Dropbox (Pessoal)\\proj_python\\Resultados\\ano2016_classe4_5km.tif\n",
      "Rasterizando o vetor de entrada...\n",
      "Done.\n",
      "Raster de referência: C:\\Users\\acpes\\Dropbox (Pessoal)\\proj_python\\molde_1km.tif\n",
      "Vetor de entrada: C:\\Users\\acpes\\Dropbox (Pessoal)\\proj_python\\Resultados\\ano2000_classe1_10km.shp\n",
      "Raster de saída: C:\\Users\\acpes\\Dropbox (Pessoal)\\proj_python\\Resultados\\ano2000_classe1_10km.tif\n",
      "Rasterizando o vetor de entrada...\n",
      "Done.\n",
      "Vetor de entrada: C:\\Users\\acpes\\Dropbox (Pessoal)\\proj_python\\Resultados\\ano2000_classe1_1km.shp\n",
      "Raster de saída: C:\\Users\\acpes\\Dropbox (Pessoal)\\proj_python\\Resultados\\ano2000_classe1_1km.tif\n",
      "Rasterizando o vetor de entrada...\n",
      "Done.\n",
      "Vetor de entrada: C:\\Users\\acpes\\Dropbox (Pessoal)\\proj_python\\Resultados\\ano2000_classe1_5km.shp\n",
      "Raster de saída: C:\\Users\\acpes\\Dropbox (Pessoal)\\proj_python\\Resultados\\ano2000_classe1_5km.tif\n",
      "Rasterizando o vetor de entrada...\n",
      "Done.\n",
      "Vetor de entrada: C:\\Users\\acpes\\Dropbox (Pessoal)\\proj_python\\Resultados\\ano2000_classe2_10km.shp\n",
      "Raster de saída: C:\\Users\\acpes\\Dropbox (Pessoal)\\proj_python\\Resultados\\ano2000_classe2_10km.tif\n",
      "Rasterizando o vetor de entrada...\n",
      "Done.\n",
      "Vetor de entrada: C:\\Users\\acpes\\Dropbox (Pessoal)\\proj_python\\Resultados\\ano2000_classe2_1km.shp\n",
      "Raster de saída: C:\\Users\\acpes\\Dropbox (Pessoal)\\proj_python\\Resultados\\ano2000_classe2_1km.tif\n",
      "Rasterizando o vetor de entrada...\n",
      "Done.\n",
      "Vetor de entrada: C:\\Users\\acpes\\Dropbox (Pessoal)\\proj_python\\Resultados\\ano2000_classe2_5km.shp\n",
      "Raster de saída: C:\\Users\\acpes\\Dropbox (Pessoal)\\proj_python\\Resultados\\ano2000_classe2_5km.tif\n",
      "Rasterizando o vetor de entrada...\n",
      "Done.\n",
      "Vetor de entrada: C:\\Users\\acpes\\Dropbox (Pessoal)\\proj_python\\Resultados\\ano2000_classe3_10km.shp\n",
      "Raster de saída: C:\\Users\\acpes\\Dropbox (Pessoal)\\proj_python\\Resultados\\ano2000_classe3_10km.tif\n",
      "Rasterizando o vetor de entrada...\n",
      "Done.\n",
      "Vetor de entrada: C:\\Users\\acpes\\Dropbox (Pessoal)\\proj_python\\Resultados\\ano2000_classe3_1km.shp\n",
      "Raster de saída: C:\\Users\\acpes\\Dropbox (Pessoal)\\proj_python\\Resultados\\ano2000_classe3_1km.tif\n",
      "Rasterizando o vetor de entrada...\n",
      "Done.\n",
      "Vetor de entrada: C:\\Users\\acpes\\Dropbox (Pessoal)\\proj_python\\Resultados\\ano2000_classe3_5km.shp\n",
      "Raster de saída: C:\\Users\\acpes\\Dropbox (Pessoal)\\proj_python\\Resultados\\ano2000_classe3_5km.tif\n",
      "Rasterizando o vetor de entrada...\n",
      "Done.\n",
      "Vetor de entrada: C:\\Users\\acpes\\Dropbox (Pessoal)\\proj_python\\Resultados\\ano2000_classe4_10km.shp\n",
      "Raster de saída: C:\\Users\\acpes\\Dropbox (Pessoal)\\proj_python\\Resultados\\ano2000_classe4_10km.tif\n",
      "Rasterizando o vetor de entrada...\n",
      "Done.\n",
      "Vetor de entrada: C:\\Users\\acpes\\Dropbox (Pessoal)\\proj_python\\Resultados\\ano2000_classe4_1km.shp\n",
      "Raster de saída: C:\\Users\\acpes\\Dropbox (Pessoal)\\proj_python\\Resultados\\ano2000_classe4_1km.tif\n",
      "Rasterizando o vetor de entrada...\n"
     ]
    },
    {
     "name": "stdout",
     "output_type": "stream",
     "text": [
      "Done.\n",
      "Vetor de entrada: C:\\Users\\acpes\\Dropbox (Pessoal)\\proj_python\\Resultados\\ano2000_classe4_5km.shp\n",
      "Raster de saída: C:\\Users\\acpes\\Dropbox (Pessoal)\\proj_python\\Resultados\\ano2000_classe4_5km.tif\n",
      "Rasterizando o vetor de entrada...\n",
      "Done.\n",
      "Vetor de entrada: C:\\Users\\acpes\\Dropbox (Pessoal)\\proj_python\\Resultados\\ano2016_classe1_10km.shp\n",
      "Raster de saída: C:\\Users\\acpes\\Dropbox (Pessoal)\\proj_python\\Resultados\\ano2016_classe1_10km.tif\n",
      "Rasterizando o vetor de entrada...\n",
      "Done.\n",
      "Vetor de entrada: C:\\Users\\acpes\\Dropbox (Pessoal)\\proj_python\\Resultados\\ano2016_classe1_1km.shp\n",
      "Raster de saída: C:\\Users\\acpes\\Dropbox (Pessoal)\\proj_python\\Resultados\\ano2016_classe1_1km.tif\n",
      "Rasterizando o vetor de entrada...\n",
      "Done.\n",
      "Vetor de entrada: C:\\Users\\acpes\\Dropbox (Pessoal)\\proj_python\\Resultados\\ano2016_classe1_5km.shp\n",
      "Raster de saída: C:\\Users\\acpes\\Dropbox (Pessoal)\\proj_python\\Resultados\\ano2016_classe1_5km.tif\n",
      "Rasterizando o vetor de entrada...\n",
      "Done.\n",
      "Vetor de entrada: C:\\Users\\acpes\\Dropbox (Pessoal)\\proj_python\\Resultados\\ano2016_classe2_10km.shp\n",
      "Raster de saída: C:\\Users\\acpes\\Dropbox (Pessoal)\\proj_python\\Resultados\\ano2016_classe2_10km.tif\n",
      "Rasterizando o vetor de entrada...\n",
      "Done.\n",
      "Vetor de entrada: C:\\Users\\acpes\\Dropbox (Pessoal)\\proj_python\\Resultados\\ano2016_classe2_1km.shp\n",
      "Raster de saída: C:\\Users\\acpes\\Dropbox (Pessoal)\\proj_python\\Resultados\\ano2016_classe2_1km.tif\n",
      "Rasterizando o vetor de entrada...\n",
      "Done.\n",
      "Vetor de entrada: C:\\Users\\acpes\\Dropbox (Pessoal)\\proj_python\\Resultados\\ano2016_classe2_5km.shp\n",
      "Raster de saída: C:\\Users\\acpes\\Dropbox (Pessoal)\\proj_python\\Resultados\\ano2016_classe2_5km.tif\n",
      "Rasterizando o vetor de entrada...\n",
      "Done.\n",
      "Vetor de entrada: C:\\Users\\acpes\\Dropbox (Pessoal)\\proj_python\\Resultados\\ano2016_classe3_10km.shp\n",
      "Raster de saída: C:\\Users\\acpes\\Dropbox (Pessoal)\\proj_python\\Resultados\\ano2016_classe3_10km.tif\n",
      "Rasterizando o vetor de entrada...\n",
      "Done.\n",
      "Vetor de entrada: C:\\Users\\acpes\\Dropbox (Pessoal)\\proj_python\\Resultados\\ano2016_classe3_1km.shp\n",
      "Raster de saída: C:\\Users\\acpes\\Dropbox (Pessoal)\\proj_python\\Resultados\\ano2016_classe3_1km.tif\n",
      "Rasterizando o vetor de entrada...\n",
      "Done.\n",
      "Vetor de entrada: C:\\Users\\acpes\\Dropbox (Pessoal)\\proj_python\\Resultados\\ano2016_classe3_5km.shp\n",
      "Raster de saída: C:\\Users\\acpes\\Dropbox (Pessoal)\\proj_python\\Resultados\\ano2016_classe3_5km.tif\n",
      "Rasterizando o vetor de entrada...\n",
      "Done.\n",
      "Vetor de entrada: C:\\Users\\acpes\\Dropbox (Pessoal)\\proj_python\\Resultados\\ano2016_classe4_10km.shp\n",
      "Raster de saída: C:\\Users\\acpes\\Dropbox (Pessoal)\\proj_python\\Resultados\\ano2016_classe4_10km.tif\n",
      "Rasterizando o vetor de entrada...\n",
      "Done.\n",
      "Vetor de entrada: C:\\Users\\acpes\\Dropbox (Pessoal)\\proj_python\\Resultados\\ano2016_classe4_1km.shp\n",
      "Raster de saída: C:\\Users\\acpes\\Dropbox (Pessoal)\\proj_python\\Resultados\\ano2016_classe4_1km.tif\n",
      "Rasterizando o vetor de entrada...\n",
      "Done.\n",
      "Vetor de entrada: C:\\Users\\acpes\\Dropbox (Pessoal)\\proj_python\\Resultados\\ano2016_classe4_5km.shp\n",
      "Raster de saída: C:\\Users\\acpes\\Dropbox (Pessoal)\\proj_python\\Resultados\\ano2016_classe4_5km.tif\n",
      "Rasterizando o vetor de entrada...\n",
      "Done.\n",
      "Raster de referência: C:\\Users\\acpes\\Dropbox (Pessoal)\\proj_python\\molde_5km.tif\n",
      "Vetor de entrada: C:\\Users\\acpes\\Dropbox (Pessoal)\\proj_python\\Resultados\\ano2000_classe1_10km.shp\n",
      "Raster de saída: C:\\Users\\acpes\\Dropbox (Pessoal)\\proj_python\\Resultados\\ano2000_classe1_10km.tif\n",
      "Rasterizando o vetor de entrada...\n",
      "Done.\n",
      "Vetor de entrada: C:\\Users\\acpes\\Dropbox (Pessoal)\\proj_python\\Resultados\\ano2000_classe1_1km.shp\n",
      "Raster de saída: C:\\Users\\acpes\\Dropbox (Pessoal)\\proj_python\\Resultados\\ano2000_classe1_1km.tif\n",
      "Rasterizando o vetor de entrada...\n",
      "Done.\n",
      "Vetor de entrada: C:\\Users\\acpes\\Dropbox (Pessoal)\\proj_python\\Resultados\\ano2000_classe1_5km.shp\n",
      "Raster de saída: C:\\Users\\acpes\\Dropbox (Pessoal)\\proj_python\\Resultados\\ano2000_classe1_5km.tif\n",
      "Rasterizando o vetor de entrada...\n",
      "Done.\n",
      "Vetor de entrada: C:\\Users\\acpes\\Dropbox (Pessoal)\\proj_python\\Resultados\\ano2000_classe2_10km.shp\n",
      "Raster de saída: C:\\Users\\acpes\\Dropbox (Pessoal)\\proj_python\\Resultados\\ano2000_classe2_10km.tif\n",
      "Rasterizando o vetor de entrada...\n",
      "Done.\n",
      "Vetor de entrada: C:\\Users\\acpes\\Dropbox (Pessoal)\\proj_python\\Resultados\\ano2000_classe2_1km.shp\n",
      "Raster de saída: C:\\Users\\acpes\\Dropbox (Pessoal)\\proj_python\\Resultados\\ano2000_classe2_1km.tif\n",
      "Rasterizando o vetor de entrada...\n",
      "Done.\n",
      "Vetor de entrada: C:\\Users\\acpes\\Dropbox (Pessoal)\\proj_python\\Resultados\\ano2000_classe2_5km.shp\n",
      "Raster de saída: C:\\Users\\acpes\\Dropbox (Pessoal)\\proj_python\\Resultados\\ano2000_classe2_5km.tif\n",
      "Rasterizando o vetor de entrada...\n",
      "Done.\n",
      "Vetor de entrada: C:\\Users\\acpes\\Dropbox (Pessoal)\\proj_python\\Resultados\\ano2000_classe3_10km.shp\n",
      "Raster de saída: C:\\Users\\acpes\\Dropbox (Pessoal)\\proj_python\\Resultados\\ano2000_classe3_10km.tif\n",
      "Rasterizando o vetor de entrada...\n",
      "Done.\n",
      "Vetor de entrada: C:\\Users\\acpes\\Dropbox (Pessoal)\\proj_python\\Resultados\\ano2000_classe3_1km.shp\n",
      "Raster de saída: C:\\Users\\acpes\\Dropbox (Pessoal)\\proj_python\\Resultados\\ano2000_classe3_1km.tif\n",
      "Rasterizando o vetor de entrada...\n",
      "Done.\n",
      "Vetor de entrada: C:\\Users\\acpes\\Dropbox (Pessoal)\\proj_python\\Resultados\\ano2000_classe3_5km.shp\n",
      "Raster de saída: C:\\Users\\acpes\\Dropbox (Pessoal)\\proj_python\\Resultados\\ano2000_classe3_5km.tif\n",
      "Rasterizando o vetor de entrada...\n",
      "Done.\n",
      "Vetor de entrada: C:\\Users\\acpes\\Dropbox (Pessoal)\\proj_python\\Resultados\\ano2000_classe4_10km.shp\n",
      "Raster de saída: C:\\Users\\acpes\\Dropbox (Pessoal)\\proj_python\\Resultados\\ano2000_classe4_10km.tif\n",
      "Rasterizando o vetor de entrada...\n",
      "Done.\n",
      "Vetor de entrada: C:\\Users\\acpes\\Dropbox (Pessoal)\\proj_python\\Resultados\\ano2000_classe4_1km.shp\n",
      "Raster de saída: C:\\Users\\acpes\\Dropbox (Pessoal)\\proj_python\\Resultados\\ano2000_classe4_1km.tif\n",
      "Rasterizando o vetor de entrada...\n",
      "Done.\n",
      "Vetor de entrada: C:\\Users\\acpes\\Dropbox (Pessoal)\\proj_python\\Resultados\\ano2000_classe4_5km.shp\n",
      "Raster de saída: C:\\Users\\acpes\\Dropbox (Pessoal)\\proj_python\\Resultados\\ano2000_classe4_5km.tif\n",
      "Rasterizando o vetor de entrada...\n",
      "Done.\n",
      "Vetor de entrada: C:\\Users\\acpes\\Dropbox (Pessoal)\\proj_python\\Resultados\\ano2016_classe1_10km.shp\n",
      "Raster de saída: C:\\Users\\acpes\\Dropbox (Pessoal)\\proj_python\\Resultados\\ano2016_classe1_10km.tif\n",
      "Rasterizando o vetor de entrada...\n",
      "Done.\n",
      "Vetor de entrada: C:\\Users\\acpes\\Dropbox (Pessoal)\\proj_python\\Resultados\\ano2016_classe1_1km.shp\n",
      "Raster de saída: C:\\Users\\acpes\\Dropbox (Pessoal)\\proj_python\\Resultados\\ano2016_classe1_1km.tif\n",
      "Rasterizando o vetor de entrada...\n",
      "Done.\n",
      "Vetor de entrada: C:\\Users\\acpes\\Dropbox (Pessoal)\\proj_python\\Resultados\\ano2016_classe1_5km.shp\n",
      "Raster de saída: C:\\Users\\acpes\\Dropbox (Pessoal)\\proj_python\\Resultados\\ano2016_classe1_5km.tif\n",
      "Rasterizando o vetor de entrada...\n",
      "Done.\n",
      "Vetor de entrada: C:\\Users\\acpes\\Dropbox (Pessoal)\\proj_python\\Resultados\\ano2016_classe2_10km.shp\n",
      "Raster de saída: C:\\Users\\acpes\\Dropbox (Pessoal)\\proj_python\\Resultados\\ano2016_classe2_10km.tif\n",
      "Rasterizando o vetor de entrada...\n",
      "Done.\n",
      "Vetor de entrada: C:\\Users\\acpes\\Dropbox (Pessoal)\\proj_python\\Resultados\\ano2016_classe2_1km.shp\n",
      "Raster de saída: C:\\Users\\acpes\\Dropbox (Pessoal)\\proj_python\\Resultados\\ano2016_classe2_1km.tif\n",
      "Rasterizando o vetor de entrada...\n",
      "Done.\n",
      "Vetor de entrada: C:\\Users\\acpes\\Dropbox (Pessoal)\\proj_python\\Resultados\\ano2016_classe2_5km.shp\n",
      "Raster de saída: C:\\Users\\acpes\\Dropbox (Pessoal)\\proj_python\\Resultados\\ano2016_classe2_5km.tif\n",
      "Rasterizando o vetor de entrada...\n",
      "Done.\n",
      "Vetor de entrada: C:\\Users\\acpes\\Dropbox (Pessoal)\\proj_python\\Resultados\\ano2016_classe3_10km.shp\n",
      "Raster de saída: C:\\Users\\acpes\\Dropbox (Pessoal)\\proj_python\\Resultados\\ano2016_classe3_10km.tif\n",
      "Rasterizando o vetor de entrada...\n",
      "Done.\n",
      "Vetor de entrada: C:\\Users\\acpes\\Dropbox (Pessoal)\\proj_python\\Resultados\\ano2016_classe3_1km.shp\n",
      "Raster de saída: C:\\Users\\acpes\\Dropbox (Pessoal)\\proj_python\\Resultados\\ano2016_classe3_1km.tif\n",
      "Rasterizando o vetor de entrada...\n",
      "Done.\n",
      "Vetor de entrada: C:\\Users\\acpes\\Dropbox (Pessoal)\\proj_python\\Resultados\\ano2016_classe3_5km.shp\n",
      "Raster de saída: C:\\Users\\acpes\\Dropbox (Pessoal)\\proj_python\\Resultados\\ano2016_classe3_5km.tif\n",
      "Rasterizando o vetor de entrada...\n",
      "Done.\n",
      "Vetor de entrada: C:\\Users\\acpes\\Dropbox (Pessoal)\\proj_python\\Resultados\\ano2016_classe4_10km.shp\n",
      "Raster de saída: C:\\Users\\acpes\\Dropbox (Pessoal)\\proj_python\\Resultados\\ano2016_classe4_10km.tif\n",
      "Rasterizando o vetor de entrada...\n",
      "Done.\n",
      "Vetor de entrada: C:\\Users\\acpes\\Dropbox (Pessoal)\\proj_python\\Resultados\\ano2016_classe4_1km.shp\n",
      "Raster de saída: C:\\Users\\acpes\\Dropbox (Pessoal)\\proj_python\\Resultados\\ano2016_classe4_1km.tif\n",
      "Rasterizando o vetor de entrada...\n"
     ]
    },
    {
     "name": "stdout",
     "output_type": "stream",
     "text": [
      "Done.\n",
      "Vetor de entrada: C:\\Users\\acpes\\Dropbox (Pessoal)\\proj_python\\Resultados\\ano2016_classe4_5km.shp\n",
      "Raster de saída: C:\\Users\\acpes\\Dropbox (Pessoal)\\proj_python\\Resultados\\ano2016_classe4_5km.tif\n",
      "Rasterizando o vetor de entrada...\n",
      "Done.\n"
     ]
    }
   ],
   "source": [
    "for ref in lista_raster_referencia_dir:\n",
    "    print('Raster de referência:', ref)\n",
    "    for entrada, saida in zip(lista_vetor_entrada_dir, lista_raster_saida_dir):\n",
    "        print('Vetor de entrada:', entrada)\n",
    "        print('Raster de saída:', saida)\n",
    "        vetoraster(entrada, ref, saida)"
   ]
  },
  {
   "cell_type": "markdown",
   "metadata": {},
   "source": [
    "### 6. Produto Final"
   ]
  },
  {
   "cell_type": "markdown",
   "metadata": {},
   "source": [
    "Será mostrado a reamostragem da classe Floresta para o ano 2000 para as três resoluções adotadas. A figura abaixo apresenta o raster final sobreposto ao dado original do MapBiomas em 30 metros."
   ]
  },
  {
   "cell_type": "markdown",
   "metadata": {},
   "source": [
    "#### 6.1. Reamostragem da classe Floresta do ano 2000"
   ]
  },
  {
   "attachments": {},
   "cell_type": "markdown",
   "metadata": {},
   "source": [
    "<img src=\"https://github.com/ac-pessoa/SER-347---Trabalho-Final/blob/master/resultado.jpg?raw=true\" width=\"700\">"
   ]
  },
  {
   "cell_type": "markdown",
   "metadata": {},
   "source": [
    "# FIM!"
   ]
  }
 ],
 "metadata": {
  "kernelspec": {
   "display_name": "Python (geospatial)",
   "language": "python",
   "name": "geospatial"
  },
  "language_info": {
   "codemirror_mode": {
    "name": "ipython",
    "version": 3
   },
   "file_extension": ".py",
   "mimetype": "text/x-python",
   "name": "python",
   "nbconvert_exporter": "python",
   "pygments_lexer": "ipython3",
   "version": "3.6.5"
  }
 },
 "nbformat": 4,
 "nbformat_minor": 2
}
